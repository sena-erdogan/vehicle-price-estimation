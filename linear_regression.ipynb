{
 "cells": [
  {
   "cell_type": "code",
   "execution_count": 1,
   "id": "77189e47",
   "metadata": {},
   "outputs": [],
   "source": [
    "# For Data Cleaning and Manipulation\n",
    "\n",
    "import numpy as np # linear algebra\n",
    "import pandas as pd # data processing, CSV file I/O (e.g. pd.read_csv)\n",
    "\n",
    "#For Data Visualization \n",
    "import matplotlib.pyplot as plt \n",
    "import seaborn as sns \n",
    "\n",
    "#For Warnings \n",
    "import warnings \n",
    "warnings.filterwarnings('ignore')\n",
    "\n",
    "#For Options \n",
    "pd.set_option('display.max_columns' , None)\n",
    "pd.set_option('display.max_rows', None)"
   ]
  },
  {
   "cell_type": "code",
   "execution_count": 2,
   "id": "ef5f61c0",
   "metadata": {},
   "outputs": [],
   "source": [
    "car_details = pd.read_csv('vehicles_us_5000.csv')"
   ]
  },
  {
   "cell_type": "code",
   "execution_count": 3,
   "id": "adb3c04e",
   "metadata": {},
   "outputs": [
    {
     "data": {
      "text/html": [
       "<div>\n",
       "<style scoped>\n",
       "    .dataframe tbody tr th:only-of-type {\n",
       "        vertical-align: middle;\n",
       "    }\n",
       "\n",
       "    .dataframe tbody tr th {\n",
       "        vertical-align: top;\n",
       "    }\n",
       "\n",
       "    .dataframe thead th {\n",
       "        text-align: right;\n",
       "    }\n",
       "</style>\n",
       "<table border=\"1\" class=\"dataframe\">\n",
       "  <thead>\n",
       "    <tr style=\"text-align: right;\">\n",
       "      <th></th>\n",
       "      <th>price</th>\n",
       "      <th>model_year</th>\n",
       "      <th>model</th>\n",
       "      <th>condition</th>\n",
       "      <th>cylinders</th>\n",
       "      <th>fuel</th>\n",
       "      <th>odometer</th>\n",
       "      <th>transmission</th>\n",
       "      <th>type</th>\n",
       "      <th>paint_color</th>\n",
       "      <th>is_4wd</th>\n",
       "      <th>date_posted</th>\n",
       "      <th>days_listed</th>\n",
       "    </tr>\n",
       "  </thead>\n",
       "  <tbody>\n",
       "    <tr>\n",
       "      <th>0</th>\n",
       "      <td>9400</td>\n",
       "      <td>2011.0</td>\n",
       "      <td>bmw x5</td>\n",
       "      <td>good</td>\n",
       "      <td>6.0</td>\n",
       "      <td>gas</td>\n",
       "      <td>145000.0</td>\n",
       "      <td>automatic</td>\n",
       "      <td>SUV</td>\n",
       "      <td>NaN</td>\n",
       "      <td>1.0</td>\n",
       "      <td>2018-06-23</td>\n",
       "      <td>19</td>\n",
       "    </tr>\n",
       "    <tr>\n",
       "      <th>1</th>\n",
       "      <td>25500</td>\n",
       "      <td>NaN</td>\n",
       "      <td>ford f-150</td>\n",
       "      <td>good</td>\n",
       "      <td>6.0</td>\n",
       "      <td>gas</td>\n",
       "      <td>88705.0</td>\n",
       "      <td>automatic</td>\n",
       "      <td>pickup</td>\n",
       "      <td>white</td>\n",
       "      <td>1.0</td>\n",
       "      <td>2018-10-19</td>\n",
       "      <td>50</td>\n",
       "    </tr>\n",
       "    <tr>\n",
       "      <th>2</th>\n",
       "      <td>5500</td>\n",
       "      <td>2013.0</td>\n",
       "      <td>hyundai sonata</td>\n",
       "      <td>like new</td>\n",
       "      <td>4.0</td>\n",
       "      <td>gas</td>\n",
       "      <td>110000.0</td>\n",
       "      <td>automatic</td>\n",
       "      <td>sedan</td>\n",
       "      <td>red</td>\n",
       "      <td>NaN</td>\n",
       "      <td>2019-02-07</td>\n",
       "      <td>79</td>\n",
       "    </tr>\n",
       "    <tr>\n",
       "      <th>3</th>\n",
       "      <td>1500</td>\n",
       "      <td>2003.0</td>\n",
       "      <td>ford f-150</td>\n",
       "      <td>fair</td>\n",
       "      <td>8.0</td>\n",
       "      <td>gas</td>\n",
       "      <td>NaN</td>\n",
       "      <td>automatic</td>\n",
       "      <td>pickup</td>\n",
       "      <td>NaN</td>\n",
       "      <td>NaN</td>\n",
       "      <td>2019-03-22</td>\n",
       "      <td>9</td>\n",
       "    </tr>\n",
       "    <tr>\n",
       "      <th>4</th>\n",
       "      <td>14900</td>\n",
       "      <td>2017.0</td>\n",
       "      <td>chrysler 200</td>\n",
       "      <td>excellent</td>\n",
       "      <td>4.0</td>\n",
       "      <td>gas</td>\n",
       "      <td>80903.0</td>\n",
       "      <td>automatic</td>\n",
       "      <td>sedan</td>\n",
       "      <td>black</td>\n",
       "      <td>NaN</td>\n",
       "      <td>2019-04-02</td>\n",
       "      <td>28</td>\n",
       "    </tr>\n",
       "  </tbody>\n",
       "</table>\n",
       "</div>"
      ],
      "text/plain": [
       "   price  model_year           model  condition  cylinders fuel  odometer  \\\n",
       "0   9400      2011.0          bmw x5       good        6.0  gas  145000.0   \n",
       "1  25500         NaN      ford f-150       good        6.0  gas   88705.0   \n",
       "2   5500      2013.0  hyundai sonata   like new        4.0  gas  110000.0   \n",
       "3   1500      2003.0      ford f-150       fair        8.0  gas       NaN   \n",
       "4  14900      2017.0    chrysler 200  excellent        4.0  gas   80903.0   \n",
       "\n",
       "  transmission    type paint_color  is_4wd date_posted  days_listed  \n",
       "0    automatic     SUV         NaN     1.0  2018-06-23           19  \n",
       "1    automatic  pickup       white     1.0  2018-10-19           50  \n",
       "2    automatic   sedan         red     NaN  2019-02-07           79  \n",
       "3    automatic  pickup         NaN     NaN  2019-03-22            9  \n",
       "4    automatic   sedan       black     NaN  2019-04-02           28  "
      ]
     },
     "execution_count": 3,
     "metadata": {},
     "output_type": "execute_result"
    }
   ],
   "source": [
    "car_details.head()"
   ]
  },
  {
   "cell_type": "code",
   "execution_count": 4,
   "id": "57f6fa65",
   "metadata": {},
   "outputs": [
    {
     "data": {
      "text/html": [
       "<div>\n",
       "<style scoped>\n",
       "    .dataframe tbody tr th:only-of-type {\n",
       "        vertical-align: middle;\n",
       "    }\n",
       "\n",
       "    .dataframe tbody tr th {\n",
       "        vertical-align: top;\n",
       "    }\n",
       "\n",
       "    .dataframe thead th {\n",
       "        text-align: right;\n",
       "    }\n",
       "</style>\n",
       "<table border=\"1\" class=\"dataframe\">\n",
       "  <thead>\n",
       "    <tr style=\"text-align: right;\">\n",
       "      <th></th>\n",
       "      <th>price</th>\n",
       "      <th>model_year</th>\n",
       "      <th>model</th>\n",
       "      <th>condition</th>\n",
       "      <th>cylinders</th>\n",
       "      <th>fuel</th>\n",
       "      <th>odometer</th>\n",
       "      <th>transmission</th>\n",
       "      <th>type</th>\n",
       "      <th>paint_color</th>\n",
       "      <th>is_4wd</th>\n",
       "      <th>date_posted</th>\n",
       "      <th>days_listed</th>\n",
       "    </tr>\n",
       "  </thead>\n",
       "  <tbody>\n",
       "    <tr>\n",
       "      <th>5092</th>\n",
       "      <td>17999</td>\n",
       "      <td>2014.0</td>\n",
       "      <td>ram 1500</td>\n",
       "      <td>like new</td>\n",
       "      <td>8.0</td>\n",
       "      <td>gas</td>\n",
       "      <td>154000.0</td>\n",
       "      <td>automatic</td>\n",
       "      <td>pickup</td>\n",
       "      <td>white</td>\n",
       "      <td>1.0</td>\n",
       "      <td>2018-06-21</td>\n",
       "      <td>11</td>\n",
       "    </tr>\n",
       "    <tr>\n",
       "      <th>5093</th>\n",
       "      <td>4800</td>\n",
       "      <td>2012.0</td>\n",
       "      <td>volkswagen jetta</td>\n",
       "      <td>good</td>\n",
       "      <td>4.0</td>\n",
       "      <td>gas</td>\n",
       "      <td>138000.0</td>\n",
       "      <td>automatic</td>\n",
       "      <td>sedan</td>\n",
       "      <td>silver</td>\n",
       "      <td>NaN</td>\n",
       "      <td>2018-07-19</td>\n",
       "      <td>39</td>\n",
       "    </tr>\n",
       "    <tr>\n",
       "      <th>5094</th>\n",
       "      <td>12000</td>\n",
       "      <td>2005.0</td>\n",
       "      <td>chevrolet silverado 2500hd</td>\n",
       "      <td>good</td>\n",
       "      <td>8.0</td>\n",
       "      <td>diesel</td>\n",
       "      <td>228000.0</td>\n",
       "      <td>automatic</td>\n",
       "      <td>pickup</td>\n",
       "      <td>silver</td>\n",
       "      <td>1.0</td>\n",
       "      <td>2018-08-18</td>\n",
       "      <td>52</td>\n",
       "    </tr>\n",
       "    <tr>\n",
       "      <th>5095</th>\n",
       "      <td>8999</td>\n",
       "      <td>2011.0</td>\n",
       "      <td>jeep grand cherokee</td>\n",
       "      <td>good</td>\n",
       "      <td>6.0</td>\n",
       "      <td>gas</td>\n",
       "      <td>NaN</td>\n",
       "      <td>automatic</td>\n",
       "      <td>SUV</td>\n",
       "      <td>white</td>\n",
       "      <td>1.0</td>\n",
       "      <td>2018-11-01</td>\n",
       "      <td>51</td>\n",
       "    </tr>\n",
       "    <tr>\n",
       "      <th>5096</th>\n",
       "      <td>11000</td>\n",
       "      <td>2012.0</td>\n",
       "      <td>dodge charger</td>\n",
       "      <td>excellent</td>\n",
       "      <td>8.0</td>\n",
       "      <td>gas</td>\n",
       "      <td>81000.0</td>\n",
       "      <td>automatic</td>\n",
       "      <td>sedan</td>\n",
       "      <td>black</td>\n",
       "      <td>NaN</td>\n",
       "      <td>2019-04-19</td>\n",
       "      <td>44</td>\n",
       "    </tr>\n",
       "  </tbody>\n",
       "</table>\n",
       "</div>"
      ],
      "text/plain": [
       "      price  model_year                       model  condition  cylinders  \\\n",
       "5092  17999      2014.0                    ram 1500   like new        8.0   \n",
       "5093   4800      2012.0            volkswagen jetta       good        4.0   \n",
       "5094  12000      2005.0  chevrolet silverado 2500hd       good        8.0   \n",
       "5095   8999      2011.0         jeep grand cherokee       good        6.0   \n",
       "5096  11000      2012.0               dodge charger  excellent        8.0   \n",
       "\n",
       "        fuel  odometer transmission    type paint_color  is_4wd date_posted  \\\n",
       "5092     gas  154000.0    automatic  pickup       white     1.0  2018-06-21   \n",
       "5093     gas  138000.0    automatic   sedan      silver     NaN  2018-07-19   \n",
       "5094  diesel  228000.0    automatic  pickup      silver     1.0  2018-08-18   \n",
       "5095     gas       NaN    automatic     SUV       white     1.0  2018-11-01   \n",
       "5096     gas   81000.0    automatic   sedan       black     NaN  2019-04-19   \n",
       "\n",
       "      days_listed  \n",
       "5092           11  \n",
       "5093           39  \n",
       "5094           52  \n",
       "5095           51  \n",
       "5096           44  "
      ]
     },
     "execution_count": 4,
     "metadata": {},
     "output_type": "execute_result"
    }
   ],
   "source": [
    "car_details.tail()"
   ]
  },
  {
   "cell_type": "code",
   "execution_count": 5,
   "id": "bbe01a63",
   "metadata": {},
   "outputs": [
    {
     "data": {
      "text/html": [
       "<div>\n",
       "<style scoped>\n",
       "    .dataframe tbody tr th:only-of-type {\n",
       "        vertical-align: middle;\n",
       "    }\n",
       "\n",
       "    .dataframe tbody tr th {\n",
       "        vertical-align: top;\n",
       "    }\n",
       "\n",
       "    .dataframe thead th {\n",
       "        text-align: right;\n",
       "    }\n",
       "</style>\n",
       "<table border=\"1\" class=\"dataframe\">\n",
       "  <thead>\n",
       "    <tr style=\"text-align: right;\">\n",
       "      <th></th>\n",
       "      <th>price</th>\n",
       "      <th>model_year</th>\n",
       "      <th>model</th>\n",
       "      <th>condition</th>\n",
       "      <th>cylinders</th>\n",
       "      <th>fuel</th>\n",
       "      <th>odometer</th>\n",
       "      <th>transmission</th>\n",
       "      <th>type</th>\n",
       "      <th>paint_color</th>\n",
       "      <th>is_4wd</th>\n",
       "      <th>date_posted</th>\n",
       "      <th>days_listed</th>\n",
       "    </tr>\n",
       "  </thead>\n",
       "  <tbody>\n",
       "  </tbody>\n",
       "</table>\n",
       "</div>"
      ],
      "text/plain": [
       "Empty DataFrame\n",
       "Columns: [price, model_year, model, condition, cylinders, fuel, odometer, transmission, type, paint_color, is_4wd, date_posted, days_listed]\n",
       "Index: []"
      ]
     },
     "execution_count": 5,
     "metadata": {},
     "output_type": "execute_result"
    }
   ],
   "source": [
    "# Lets check for duplicate rows .\n",
    "\n",
    "duplicated_val_series = car_details.duplicated(keep = 'last')\n",
    "car_details[duplicated_val_series].head()"
   ]
  },
  {
   "cell_type": "code",
   "execution_count": 6,
   "id": "2c6673f5",
   "metadata": {},
   "outputs": [
    {
     "data": {
      "text/html": [
       "<div>\n",
       "<style scoped>\n",
       "    .dataframe tbody tr th:only-of-type {\n",
       "        vertical-align: middle;\n",
       "    }\n",
       "\n",
       "    .dataframe tbody tr th {\n",
       "        vertical-align: top;\n",
       "    }\n",
       "\n",
       "    .dataframe thead th {\n",
       "        text-align: right;\n",
       "    }\n",
       "</style>\n",
       "<table border=\"1\" class=\"dataframe\">\n",
       "  <thead>\n",
       "    <tr style=\"text-align: right;\">\n",
       "      <th></th>\n",
       "      <th>price</th>\n",
       "      <th>model_year</th>\n",
       "      <th>model</th>\n",
       "      <th>condition</th>\n",
       "      <th>cylinders</th>\n",
       "      <th>fuel</th>\n",
       "      <th>odometer</th>\n",
       "      <th>transmission</th>\n",
       "      <th>type</th>\n",
       "      <th>paint_color</th>\n",
       "      <th>is_4wd</th>\n",
       "      <th>date_posted</th>\n",
       "      <th>days_listed</th>\n",
       "    </tr>\n",
       "  </thead>\n",
       "  <tbody>\n",
       "    <tr>\n",
       "      <th>0</th>\n",
       "      <td>9400</td>\n",
       "      <td>2011.0</td>\n",
       "      <td>bmw x5</td>\n",
       "      <td>good</td>\n",
       "      <td>6.0</td>\n",
       "      <td>gas</td>\n",
       "      <td>145000.0</td>\n",
       "      <td>automatic</td>\n",
       "      <td>SUV</td>\n",
       "      <td>NaN</td>\n",
       "      <td>1.0</td>\n",
       "      <td>2018-06-23</td>\n",
       "      <td>19</td>\n",
       "    </tr>\n",
       "    <tr>\n",
       "      <th>1</th>\n",
       "      <td>25500</td>\n",
       "      <td>NaN</td>\n",
       "      <td>ford f-150</td>\n",
       "      <td>good</td>\n",
       "      <td>6.0</td>\n",
       "      <td>gas</td>\n",
       "      <td>88705.0</td>\n",
       "      <td>automatic</td>\n",
       "      <td>pickup</td>\n",
       "      <td>white</td>\n",
       "      <td>1.0</td>\n",
       "      <td>2018-10-19</td>\n",
       "      <td>50</td>\n",
       "    </tr>\n",
       "    <tr>\n",
       "      <th>2</th>\n",
       "      <td>5500</td>\n",
       "      <td>2013.0</td>\n",
       "      <td>hyundai sonata</td>\n",
       "      <td>like new</td>\n",
       "      <td>4.0</td>\n",
       "      <td>gas</td>\n",
       "      <td>110000.0</td>\n",
       "      <td>automatic</td>\n",
       "      <td>sedan</td>\n",
       "      <td>red</td>\n",
       "      <td>NaN</td>\n",
       "      <td>2019-02-07</td>\n",
       "      <td>79</td>\n",
       "    </tr>\n",
       "    <tr>\n",
       "      <th>3</th>\n",
       "      <td>1500</td>\n",
       "      <td>2003.0</td>\n",
       "      <td>ford f-150</td>\n",
       "      <td>fair</td>\n",
       "      <td>8.0</td>\n",
       "      <td>gas</td>\n",
       "      <td>NaN</td>\n",
       "      <td>automatic</td>\n",
       "      <td>pickup</td>\n",
       "      <td>NaN</td>\n",
       "      <td>NaN</td>\n",
       "      <td>2019-03-22</td>\n",
       "      <td>9</td>\n",
       "    </tr>\n",
       "    <tr>\n",
       "      <th>4</th>\n",
       "      <td>14900</td>\n",
       "      <td>2017.0</td>\n",
       "      <td>chrysler 200</td>\n",
       "      <td>excellent</td>\n",
       "      <td>4.0</td>\n",
       "      <td>gas</td>\n",
       "      <td>80903.0</td>\n",
       "      <td>automatic</td>\n",
       "      <td>sedan</td>\n",
       "      <td>black</td>\n",
       "      <td>NaN</td>\n",
       "      <td>2019-04-02</td>\n",
       "      <td>28</td>\n",
       "    </tr>\n",
       "  </tbody>\n",
       "</table>\n",
       "</div>"
      ],
      "text/plain": [
       "   price  model_year           model  condition  cylinders fuel  odometer  \\\n",
       "0   9400      2011.0          bmw x5       good        6.0  gas  145000.0   \n",
       "1  25500         NaN      ford f-150       good        6.0  gas   88705.0   \n",
       "2   5500      2013.0  hyundai sonata   like new        4.0  gas  110000.0   \n",
       "3   1500      2003.0      ford f-150       fair        8.0  gas       NaN   \n",
       "4  14900      2017.0    chrysler 200  excellent        4.0  gas   80903.0   \n",
       "\n",
       "  transmission    type paint_color  is_4wd date_posted  days_listed  \n",
       "0    automatic     SUV         NaN     1.0  2018-06-23           19  \n",
       "1    automatic  pickup       white     1.0  2018-10-19           50  \n",
       "2    automatic   sedan         red     NaN  2019-02-07           79  \n",
       "3    automatic  pickup         NaN     NaN  2019-03-22            9  \n",
       "4    automatic   sedan       black     NaN  2019-04-02           28  "
      ]
     },
     "execution_count": 6,
     "metadata": {},
     "output_type": "execute_result"
    }
   ],
   "source": [
    "# Remove duplicated values from car details v3 dataframe. \n",
    "\n",
    "new_car_details = car_details[~duplicated_val_series]\n",
    "new_car_details.head()"
   ]
  },
  {
   "cell_type": "code",
   "execution_count": 7,
   "id": "137f2c74",
   "metadata": {},
   "outputs": [
    {
     "name": "stdout",
     "output_type": "stream",
     "text": [
      "<class 'pandas.core.frame.DataFrame'>\n",
      "Int64Index: 5097 entries, 0 to 5096\n",
      "Data columns (total 13 columns):\n",
      " #   Column        Non-Null Count  Dtype  \n",
      "---  ------        --------------  -----  \n",
      " 0   price         5097 non-null   int64  \n",
      " 1   model_year    4740 non-null   float64\n",
      " 2   model         5097 non-null   object \n",
      " 3   condition     5097 non-null   object \n",
      " 4   cylinders     4603 non-null   float64\n",
      " 5   fuel          5097 non-null   object \n",
      " 6   odometer      4354 non-null   float64\n",
      " 7   transmission  5097 non-null   object \n",
      " 8   type          5097 non-null   object \n",
      " 9   paint_color   4194 non-null   object \n",
      " 10  is_4wd        2655 non-null   float64\n",
      " 11  date_posted   5097 non-null   object \n",
      " 12  days_listed   5097 non-null   int64  \n",
      "dtypes: float64(4), int64(2), object(7)\n",
      "memory usage: 557.5+ KB\n"
     ]
    }
   ],
   "source": [
    "new_car_details.info()"
   ]
  },
  {
   "cell_type": "code",
   "execution_count": 8,
   "id": "1db675ce",
   "metadata": {},
   "outputs": [
    {
     "data": {
      "text/plain": [
       "\"Categorical Columns:Index(['model', 'condition', 'fuel', 'transmission', 'type', 'paint_color',\\n       'date_posted'],\\n      dtype='object')\""
      ]
     },
     "execution_count": 8,
     "metadata": {},
     "output_type": "execute_result"
    }
   ],
   "source": [
    "#  Lets check 'object' type of columns \n",
    "\n",
    "def object_columns(df) : \n",
    "    o = (df.dtypes == 'object') \n",
    "    object_cols = o[o].index \n",
    "    \n",
    "    return f\"Categorical Columns:{object_cols}\"\n",
    "\n",
    "object_columns(new_car_details)\n"
   ]
  },
  {
   "cell_type": "code",
   "execution_count": 9,
   "id": "d1c2dc1e",
   "metadata": {},
   "outputs": [],
   "source": [
    "def extract_num(s):\n",
    "    return \"\".join(x for x in str(s) if x.isdigit())"
   ]
  },
  {
   "cell_type": "code",
   "execution_count": 10,
   "id": "a93cc8de",
   "metadata": {},
   "outputs": [],
   "source": [
    "new_car_details[\"odometer\"] = new_car_details[\"odometer\"].map(extract_num)"
   ]
  },
  {
   "cell_type": "code",
   "execution_count": 11,
   "id": "3894f522",
   "metadata": {},
   "outputs": [
    {
     "data": {
      "text/html": [
       "<div>\n",
       "<style scoped>\n",
       "    .dataframe tbody tr th:only-of-type {\n",
       "        vertical-align: middle;\n",
       "    }\n",
       "\n",
       "    .dataframe tbody tr th {\n",
       "        vertical-align: top;\n",
       "    }\n",
       "\n",
       "    .dataframe thead th {\n",
       "        text-align: right;\n",
       "    }\n",
       "</style>\n",
       "<table border=\"1\" class=\"dataframe\">\n",
       "  <thead>\n",
       "    <tr style=\"text-align: right;\">\n",
       "      <th></th>\n",
       "      <th>price</th>\n",
       "      <th>model_year</th>\n",
       "      <th>model</th>\n",
       "      <th>condition</th>\n",
       "      <th>cylinders</th>\n",
       "      <th>fuel</th>\n",
       "      <th>odometer</th>\n",
       "      <th>transmission</th>\n",
       "      <th>type</th>\n",
       "      <th>paint_color</th>\n",
       "      <th>is_4wd</th>\n",
       "      <th>date_posted</th>\n",
       "      <th>days_listed</th>\n",
       "    </tr>\n",
       "  </thead>\n",
       "  <tbody>\n",
       "    <tr>\n",
       "      <th>0</th>\n",
       "      <td>9400</td>\n",
       "      <td>2011.0</td>\n",
       "      <td>bmw x5</td>\n",
       "      <td>good</td>\n",
       "      <td>6.0</td>\n",
       "      <td>gas</td>\n",
       "      <td>1450000</td>\n",
       "      <td>automatic</td>\n",
       "      <td>SUV</td>\n",
       "      <td>NaN</td>\n",
       "      <td>1.0</td>\n",
       "      <td>2018-06-23</td>\n",
       "      <td>19</td>\n",
       "    </tr>\n",
       "    <tr>\n",
       "      <th>1</th>\n",
       "      <td>25500</td>\n",
       "      <td>NaN</td>\n",
       "      <td>ford f-150</td>\n",
       "      <td>good</td>\n",
       "      <td>6.0</td>\n",
       "      <td>gas</td>\n",
       "      <td>887050</td>\n",
       "      <td>automatic</td>\n",
       "      <td>pickup</td>\n",
       "      <td>white</td>\n",
       "      <td>1.0</td>\n",
       "      <td>2018-10-19</td>\n",
       "      <td>50</td>\n",
       "    </tr>\n",
       "    <tr>\n",
       "      <th>2</th>\n",
       "      <td>5500</td>\n",
       "      <td>2013.0</td>\n",
       "      <td>hyundai sonata</td>\n",
       "      <td>like new</td>\n",
       "      <td>4.0</td>\n",
       "      <td>gas</td>\n",
       "      <td>1100000</td>\n",
       "      <td>automatic</td>\n",
       "      <td>sedan</td>\n",
       "      <td>red</td>\n",
       "      <td>NaN</td>\n",
       "      <td>2019-02-07</td>\n",
       "      <td>79</td>\n",
       "    </tr>\n",
       "    <tr>\n",
       "      <th>3</th>\n",
       "      <td>1500</td>\n",
       "      <td>2003.0</td>\n",
       "      <td>ford f-150</td>\n",
       "      <td>fair</td>\n",
       "      <td>8.0</td>\n",
       "      <td>gas</td>\n",
       "      <td></td>\n",
       "      <td>automatic</td>\n",
       "      <td>pickup</td>\n",
       "      <td>NaN</td>\n",
       "      <td>NaN</td>\n",
       "      <td>2019-03-22</td>\n",
       "      <td>9</td>\n",
       "    </tr>\n",
       "    <tr>\n",
       "      <th>4</th>\n",
       "      <td>14900</td>\n",
       "      <td>2017.0</td>\n",
       "      <td>chrysler 200</td>\n",
       "      <td>excellent</td>\n",
       "      <td>4.0</td>\n",
       "      <td>gas</td>\n",
       "      <td>809030</td>\n",
       "      <td>automatic</td>\n",
       "      <td>sedan</td>\n",
       "      <td>black</td>\n",
       "      <td>NaN</td>\n",
       "      <td>2019-04-02</td>\n",
       "      <td>28</td>\n",
       "    </tr>\n",
       "  </tbody>\n",
       "</table>\n",
       "</div>"
      ],
      "text/plain": [
       "   price  model_year           model  condition  cylinders fuel odometer  \\\n",
       "0   9400      2011.0          bmw x5       good        6.0  gas  1450000   \n",
       "1  25500         NaN      ford f-150       good        6.0  gas   887050   \n",
       "2   5500      2013.0  hyundai sonata   like new        4.0  gas  1100000   \n",
       "3   1500      2003.0      ford f-150       fair        8.0  gas            \n",
       "4  14900      2017.0    chrysler 200  excellent        4.0  gas   809030   \n",
       "\n",
       "  transmission    type paint_color  is_4wd date_posted  days_listed  \n",
       "0    automatic     SUV         NaN     1.0  2018-06-23           19  \n",
       "1    automatic  pickup       white     1.0  2018-10-19           50  \n",
       "2    automatic   sedan         red     NaN  2019-02-07           79  \n",
       "3    automatic  pickup         NaN     NaN  2019-03-22            9  \n",
       "4    automatic   sedan       black     NaN  2019-04-02           28  "
      ]
     },
     "execution_count": 11,
     "metadata": {},
     "output_type": "execute_result"
    }
   ],
   "source": [
    "new_car_details.head()"
   ]
  },
  {
   "cell_type": "code",
   "execution_count": 12,
   "id": "ef7e7e5c",
   "metadata": {},
   "outputs": [],
   "source": [
    "# Convert str to numerical \n",
    "\n",
    "def str_to_num(col) :\n",
    "    return pd.to_numeric(col)\n",
    "\n",
    "new_car_details['odometer'] = new_car_details['odometer'].map(str_to_num)"
   ]
  },
  {
   "cell_type": "code",
   "execution_count": 13,
   "id": "af4d9455",
   "metadata": {},
   "outputs": [],
   "source": [
    "viz_df = new_car_details.copy()"
   ]
  },
  {
   "cell_type": "code",
   "execution_count": 14,
   "id": "1f8255b7",
   "metadata": {},
   "outputs": [
    {
     "data": {
      "text/plain": [
       "<seaborn.axisgrid.FacetGrid at 0x130297c90>"
      ]
     },
     "execution_count": 14,
     "metadata": {},
     "output_type": "execute_result"
    },
    {
     "data": {
      "image/png": "[encoded data removed]",
      "text/plain": [
       "<Figure size 500x500 with 1 Axes>"
      ]
     },
     "metadata": {},
     "output_type": "display_data"
    }
   ],
   "source": [
    "# Top 10 most expensive vehicle \n",
    "\n",
    "top_10_most_expensive_df = viz_df.sort_values(by = 'price' , ascending = False) \n",
    "top_10_most_expensive_df = top_10_most_expensive_df[:10]\n",
    "\n",
    "sns.catplot(x = 'price' ,  y = 'model' , data = top_10_most_expensive_df)"
   ]
  },
  {
   "cell_type": "code",
   "execution_count": 15,
   "id": "9c37d46e",
   "metadata": {},
   "outputs": [
    {
     "name": "stdout",
     "output_type": "stream",
     "text": [
      "<class 'pandas.core.frame.DataFrame'>\n",
      "Int64Index: 5097 entries, 0 to 5096\n",
      "Data columns (total 13 columns):\n",
      " #   Column        Non-Null Count  Dtype  \n",
      "---  ------        --------------  -----  \n",
      " 0   price         5097 non-null   int64  \n",
      " 1   model_year    4740 non-null   float64\n",
      " 2   model         5097 non-null   object \n",
      " 3   condition     5097 non-null   object \n",
      " 4   cylinders     4603 non-null   float64\n",
      " 5   fuel          5097 non-null   object \n",
      " 6   odometer      4354 non-null   float64\n",
      " 7   transmission  5097 non-null   object \n",
      " 8   type          5097 non-null   object \n",
      " 9   paint_color   4194 non-null   object \n",
      " 10  is_4wd        2655 non-null   float64\n",
      " 11  date_posted   5097 non-null   object \n",
      " 12  days_listed   5097 non-null   int64  \n",
      "dtypes: float64(4), int64(2), object(7)\n",
      "memory usage: 557.5+ KB\n"
     ]
    }
   ],
   "source": [
    "new_car_details.info()"
   ]
  },
  {
   "cell_type": "code",
   "execution_count": 16,
   "id": "83f73c43",
   "metadata": {},
   "outputs": [
    {
     "data": {
      "text/plain": [
       "\"Categorical Columns:Index(['model', 'condition', 'fuel', 'transmission', 'type', 'paint_color',\\n       'date_posted'],\\n      dtype='object')\""
      ]
     },
     "execution_count": 16,
     "metadata": {},
     "output_type": "execute_result"
    }
   ],
   "source": [
    "def object_columns(df) : \n",
    "    o = (df.dtypes == 'object') \n",
    "    object_cols = o[o].index \n",
    "    \n",
    "    return f\"Categorical Columns:{object_cols}\"\n",
    "\n",
    "object_columns(new_car_details)"
   ]
  },
  {
   "cell_type": "code",
   "execution_count": 17,
   "id": "7f5c3df9",
   "metadata": {},
   "outputs": [
    {
     "name": "stdout",
     "output_type": "stream",
     "text": [
      "model : ['bmw x5' 'ford f-150' 'hyundai sonata' 'chrysler 200' 'chrysler 300'\n",
      " 'toyota camry' 'honda pilot' 'kia sorento' 'chevrolet silverado 1500'\n",
      " 'honda accord' 'ram 1500' 'gmc yukon' 'jeep cherokee'\n",
      " 'chevrolet traverse' 'hyundai elantra' 'chevrolet tahoe' 'toyota rav4'\n",
      " 'chevrolet silverado' 'jeep wrangler' 'chevrolet malibu' 'ford fusion se'\n",
      " 'chevrolet impala' 'chevrolet corvette' 'jeep liberty' 'toyota camry le'\n",
      " 'nissan altima' 'subaru outback' 'toyota highlander' 'dodge charger'\n",
      " 'toyota tacoma' 'chevrolet equinox' 'nissan rogue'\n",
      " 'mercedes-benz benze sprinter 2500' 'honda cr-v' 'jeep grand cherokee'\n",
      " 'toyota 4runner' 'ford focus' 'honda civic' 'kia soul'\n",
      " 'chevrolet colorado' 'ford f150 supercrew cab xlt'\n",
      " 'chevrolet camaro lt coupe 2d' 'chevrolet cruze' 'ford mustang'\n",
      " 'chevrolet silverado 3500hd' 'nissan frontier crew cab sv'\n",
      " 'subaru impreza' 'jeep grand cherokee laredo' 'nissan versa'\n",
      " 'ford f-250 sd' 'chevrolet silverado 1500 crew' 'ford f250 super duty'\n",
      " 'chevrolet camaro' 'ford mustang gt coupe 2d' 'subaru forester'\n",
      " 'ford explorer' 'ford f-350 sd' 'ford edge' 'nissan maxima' 'ford f-250'\n",
      " 'nissan sentra' 'ford f150' 'chevrolet suburban' 'ford expedition'\n",
      " 'dodge grand caravan' 'ford taurus' 'acura tl' 'ford f350 super duty'\n",
      " 'ford ranger' 'gmc sierra' 'hyundai santa fe' 'ford escape'\n",
      " 'gmc sierra 2500hd' 'honda civic lx' 'gmc sierra 1500' 'honda odyssey'\n",
      " 'cadillac escalade' 'volkswagen jetta' 'toyota corolla'\n",
      " 'chrysler town & country' 'volkswagen passat' 'toyota prius'\n",
      " 'buick enclave' 'ford fusion' 'toyota tundra' 'ram 3500' 'ram 2500'\n",
      " 'nissan frontier' 'chevrolet silverado 2500hd' 'jeep wrangler unlimited'\n",
      " 'ford f-250 super duty' 'gmc acadia' 'toyota sienna' 'ford focus se'\n",
      " 'ford f250' 'dodge dakota' 'ford f350' 'chevrolet trailblazer'\n",
      " 'ford econoline' 'nissan murano']\n",
      "condition : ['good' 'like new' 'fair' 'excellent' 'salvage' 'new']\n",
      "fuel : ['gas' 'diesel' 'other' 'hybrid' 'electric']\n",
      "transmission : ['automatic' 'manual' 'other']\n",
      "type : ['SUV' 'pickup' 'sedan' 'truck' 'coupe' 'van' 'convertible' 'hatchback'\n",
      " 'wagon' 'mini-van' 'other' 'offroad' 'bus']\n",
      "paint_color : [nan 'white' 'red' 'black' 'blue' 'grey' 'silver' 'custom' 'orange'\n",
      " 'yellow' 'brown' 'green' 'purple']\n",
      "date_posted : ['2018-06-23' '2018-10-19' '2019-02-07' '2019-03-22' '2019-04-02'\n",
      " '2018-06-20' '2018-12-27' '2019-01-07' '2018-07-16' '2019-02-15'\n",
      " '2018-09-17' '2019-03-28' '2019-01-14' '2019-01-31' '2018-05-15'\n",
      " '2018-12-30' '2018-08-16' '2019-04-09' '2018-08-25' '2018-08-05'\n",
      " '2018-08-22' '2019-01-05' '2018-05-17' '2018-06-11' '2018-07-26'\n",
      " '2018-10-25' '2018-05-19' '2018-10-22' '2019-02-18' '2019-02-19'\n",
      " '2018-09-13' '2018-11-12' '2018-12-25' '2018-06-04' '2018-05-11'\n",
      " '2018-05-05' '2018-07-22' '2019-03-08' '2019-03-31' '2019-01-12'\n",
      " '2018-09-20' '2019-01-15' '2018-11-18' '2018-05-27' '2018-07-19'\n",
      " '2019-03-10' '2018-10-09' '2018-10-18' '2018-05-03' '2018-11-29'\n",
      " '2019-02-16' '2019-01-30' '2018-07-15' '2018-05-16' '2018-07-01'\n",
      " '2019-04-18' '2018-12-20' '2019-03-14' '2018-05-29' '2019-01-13'\n",
      " '2019-01-23' '2018-11-07' '2018-09-23' '2018-05-09' '2018-12-24'\n",
      " '2019-02-20' '2018-11-27' '2018-10-13' '2018-08-07' '2018-07-27'\n",
      " '2018-06-08' '2018-10-30' '2019-02-28' '2018-09-25' '2018-09-08'\n",
      " '2018-07-08' '2018-06-02' '2019-03-13' '2018-09-15' '2018-06-30'\n",
      " '2018-10-26' '2019-03-04' '2018-11-26' '2019-01-16' '2018-06-16'\n",
      " '2018-07-24' '2018-05-06' '2018-07-12' '2018-12-14' '2018-05-02'\n",
      " '2018-10-28' '2018-06-01' '2018-09-10' '2019-02-27' '2018-09-22'\n",
      " '2019-03-29' '2019-03-11' '2018-07-20' '2018-11-08' '2019-03-03'\n",
      " '2018-08-19' '2018-09-21' '2018-11-22' '2018-06-07' '2018-09-18'\n",
      " '2019-03-01' '2018-12-12' '2018-10-10' '2018-11-15' '2019-04-15'\n",
      " '2018-08-31' '2018-08-11' '2018-08-03' '2018-11-30' '2018-05-26'\n",
      " '2018-09-19' '2018-11-20' '2019-04-16' '2018-07-28' '2018-06-26'\n",
      " '2019-03-06' '2018-07-14' '2018-11-10' '2019-03-18' '2018-12-16'\n",
      " '2018-08-17' '2018-05-23' '2019-04-11' '2019-01-25' '2019-01-24'\n",
      " '2018-11-01' '2019-02-14' '2019-01-29' '2018-06-19' '2019-04-19'\n",
      " '2018-06-13' '2019-02-05' '2018-07-11' '2018-10-27' '2018-08-15'\n",
      " '2018-07-31' '2018-11-02' '2019-01-17' '2018-06-29' '2018-08-01'\n",
      " '2018-12-26' '2018-12-22' '2018-05-18' '2018-06-27' '2018-12-23'\n",
      " '2018-06-03' '2018-11-17' '2018-07-17' '2018-10-15' '2018-07-03'\n",
      " '2018-05-21' '2018-07-04' '2019-01-03' '2019-03-20' '2019-04-10'\n",
      " '2018-10-01' '2018-05-20' '2019-03-19' '2018-07-06' '2018-11-04'\n",
      " '2018-09-30' '2018-09-11' '2019-02-26' '2018-07-09' '2018-09-16'\n",
      " '2018-09-09' '2018-09-27' '2018-06-17' '2019-02-13' '2019-01-08'\n",
      " '2019-02-03' '2019-01-19' '2019-01-02' '2019-02-12' '2018-08-18'\n",
      " '2018-08-30' '2018-07-25' '2018-11-11' '2018-05-13' '2018-09-29'\n",
      " '2018-07-13' '2018-12-07' '2018-09-26' '2018-12-09' '2018-12-06'\n",
      " '2018-07-07' '2018-08-24' '2018-06-21' '2019-03-17' '2018-09-04'\n",
      " '2018-11-16' '2018-12-13' '2018-11-21' '2018-08-06' '2018-08-10'\n",
      " '2019-04-01' '2018-06-15' '2018-05-08' '2018-10-12' '2019-04-06'\n",
      " '2018-09-28' '2019-02-08' '2018-12-31' '2018-12-28' '2019-02-17'\n",
      " '2018-06-14' '2018-10-11' '2019-03-30' '2018-05-01' '2018-12-10'\n",
      " '2018-06-09' '2018-07-10' '2019-02-22' '2018-12-05' '2018-12-17'\n",
      " '2018-05-12' '2018-05-10' '2018-08-02' '2019-03-16' '2019-01-27'\n",
      " '2019-03-09' '2019-01-06' '2018-06-10' '2018-09-14' '2018-11-06'\n",
      " '2018-10-03' '2018-08-13' '2019-04-03' '2018-08-09' '2019-01-20'\n",
      " '2019-04-05' '2018-06-22' '2018-11-09' '2018-07-23' '2018-09-06'\n",
      " '2018-12-08' '2018-08-23' '2019-02-01' '2018-06-06' '2018-09-01'\n",
      " '2018-05-31' '2018-11-19' '2018-08-08' '2019-01-10' '2018-07-29'\n",
      " '2018-05-07' '2019-03-23' '2018-10-24' '2018-10-23' '2018-08-14'\n",
      " '2019-04-14' '2018-12-18' '2018-12-19' '2019-03-02' '2018-08-20'\n",
      " '2019-03-25' '2018-10-06' '2018-05-22' '2018-08-29' '2018-07-05'\n",
      " '2019-04-07' '2019-04-12' '2019-04-08' '2018-11-24' '2018-08-12'\n",
      " '2019-04-13' '2018-10-16' '2018-07-21' '2018-08-26' '2018-12-01'\n",
      " '2019-02-10' '2019-02-11' '2018-08-04' '2018-06-05' '2018-11-03'\n",
      " '2019-02-24' '2019-02-21' '2018-06-28' '2019-03-05' '2018-11-28'\n",
      " '2019-02-25' '2018-10-29' '2018-10-04' '2018-10-07' '2018-05-14'\n",
      " '2018-09-03' '2018-10-05' '2019-02-09' '2018-06-18' '2018-10-21'\n",
      " '2018-06-12' '2018-12-02' '2018-11-13' '2019-02-23' '2018-10-20'\n",
      " '2018-10-17' '2018-12-03' '2019-03-24' '2019-01-01' '2018-09-07'\n",
      " '2018-11-05' '2019-01-09' '2018-10-31' '2018-12-04' '2018-12-15'\n",
      " '2018-08-28' '2018-11-23' '2019-01-22' '2018-10-02' '2018-12-21'\n",
      " '2018-05-24' '2018-06-24' '2019-02-06' '2018-07-30' '2018-10-14'\n",
      " '2019-02-02' '2018-09-05' '2018-10-08' '2018-09-12' '2019-01-21'\n",
      " '2019-03-27' '2019-01-28' '2018-05-25' '2018-09-02' '2019-02-04'\n",
      " '2019-04-04' '2018-09-24' '2018-12-29' '2018-11-14' '2019-01-04'\n",
      " '2019-01-18' '2018-06-25' '2018-05-30' '2019-03-26' '2018-12-11'\n",
      " '2019-01-26' '2019-03-21' '2019-03-07' '2018-05-04' '2018-05-28'\n",
      " '2018-11-25' '2018-07-18' '2019-04-17' '2019-01-11' '2019-03-15'\n",
      " '2018-08-21' '2019-03-12' '2018-07-02' '2018-08-27']\n"
     ]
    }
   ],
   "source": [
    "# Check unique vals in categorical columms \n",
    "def unique_cols(df) : \n",
    "    o = (df.dtypes == 'object') \n",
    "    obj_col = o[o].index \n",
    "    for i in obj_col: \n",
    "        print(f\"{i} : {df[i].unique()}\")\n",
    "        \n",
    "unique_cols(new_car_details)"
   ]
  },
  {
   "cell_type": "code",
   "execution_count": 18,
   "id": "61ba1052",
   "metadata": {},
   "outputs": [],
   "source": [
    "filled_car_details = new_car_details.copy() "
   ]
  },
  {
   "cell_type": "code",
   "execution_count": 19,
   "id": "271ef593",
   "metadata": {},
   "outputs": [
    {
     "data": {
      "text/plain": [
       "<AxesSubplot: >"
      ]
     },
     "execution_count": 19,
     "metadata": {},
     "output_type": "execute_result"
    },
    {
     "data": {
      "image/png": "[encoded data removed]",
      "text/plain": [
       "<Figure size 700x700 with 1 Axes>"
      ]
     },
     "metadata": {},
     "output_type": "display_data"
    }
   ],
   "source": [
    "# Lets check for cylinders column. \n",
    "\n",
    "fig,ax = plt.subplots(figsize = (7,7))\n",
    "sns.boxplot(filled_car_details.cylinders)"
   ]
  },
  {
   "cell_type": "code",
   "execution_count": 20,
   "id": "59e62859",
   "metadata": {},
   "outputs": [
    {
     "data": {
      "text/plain": [
       "<AxesSubplot: xlabel='cylinders', ylabel='Density'>"
      ]
     },
     "execution_count": 20,
     "metadata": {},
     "output_type": "execute_result"
    },
    {
     "data": {
      "image/png": "[encoded data removed]",
      "text/plain": [
       "<Figure size 700x700 with 1 Axes>"
      ]
     },
     "metadata": {},
     "output_type": "display_data"
    }
   ],
   "source": [
    "fig,ax = plt.subplots(figsize = (7,7))\n",
    "sns.distplot(filled_car_details.cylinders)"
   ]
  },
  {
   "cell_type": "code",
   "execution_count": 21,
   "id": "68ceb3bb",
   "metadata": {},
   "outputs": [
    {
     "data": {
      "text/plain": [
       "<AxesSubplot: >"
      ]
     },
     "execution_count": 21,
     "metadata": {},
     "output_type": "execute_result"
    },
    {
     "data": {
      "image/png": "[encoded data removed]",
      "text/plain": [
       "<Figure size 700x700 with 1 Axes>"
      ]
     },
     "metadata": {},
     "output_type": "display_data"
    }
   ],
   "source": [
    "# Lets check for odometer column. \n",
    "\n",
    "fig,ax = plt.subplots(figsize = (7,7))\n",
    "sns.boxplot(filled_car_details.odometer)"
   ]
  },
  {
   "cell_type": "code",
   "execution_count": 22,
   "id": "44cac46d",
   "metadata": {},
   "outputs": [
    {
     "data": {
      "text/plain": [
       "<AxesSubplot: xlabel='odometer', ylabel='Density'>"
      ]
     },
     "execution_count": 22,
     "metadata": {},
     "output_type": "execute_result"
    },
    {
     "data": {
      "image/png": "[encoded data removed]",
      "text/plain": [
       "<Figure size 700x700 with 1 Axes>"
      ]
     },
     "metadata": {},
     "output_type": "display_data"
    }
   ],
   "source": [
    "fig,ax = plt.subplots(figsize = (7,7))\n",
    "sns.distplot(filled_car_details.odometer)"
   ]
  },
  {
   "cell_type": "code",
   "execution_count": 23,
   "id": "09dc6e33",
   "metadata": {},
   "outputs": [
    {
     "data": {
      "text/plain": [
       "price              0\n",
       "model_year       357\n",
       "model              0\n",
       "condition          0\n",
       "cylinders        494\n",
       "fuel               0\n",
       "odometer         743\n",
       "transmission       0\n",
       "type               0\n",
       "paint_color      903\n",
       "is_4wd          2442\n",
       "date_posted        0\n",
       "days_listed        0\n",
       "dtype: int64"
      ]
     },
     "execution_count": 23,
     "metadata": {},
     "output_type": "execute_result"
    }
   ],
   "source": [
    "filled_car_details.isnull().sum()"
   ]
  },
  {
   "cell_type": "code",
   "execution_count": 24,
   "id": "4f06047b",
   "metadata": {},
   "outputs": [],
   "source": [
    "del filled_car_details['is_4wd']\n",
    "filled_car_details = filled_car_details.dropna()"
   ]
  },
  {
   "cell_type": "code",
   "execution_count": 25,
   "id": "a440c245",
   "metadata": {},
   "outputs": [
    {
     "data": {
      "text/html": [
       "<div>\n",
       "<style scoped>\n",
       "    .dataframe tbody tr th:only-of-type {\n",
       "        vertical-align: middle;\n",
       "    }\n",
       "\n",
       "    .dataframe tbody tr th {\n",
       "        vertical-align: top;\n",
       "    }\n",
       "\n",
       "    .dataframe thead th {\n",
       "        text-align: right;\n",
       "    }\n",
       "</style>\n",
       "<table border=\"1\" class=\"dataframe\">\n",
       "  <thead>\n",
       "    <tr style=\"text-align: right;\">\n",
       "      <th></th>\n",
       "      <th>price</th>\n",
       "      <th>model_year</th>\n",
       "      <th>model</th>\n",
       "      <th>condition</th>\n",
       "      <th>cylinders</th>\n",
       "      <th>fuel</th>\n",
       "      <th>odometer</th>\n",
       "      <th>transmission</th>\n",
       "      <th>type</th>\n",
       "      <th>paint_color</th>\n",
       "      <th>date_posted</th>\n",
       "      <th>days_listed</th>\n",
       "    </tr>\n",
       "  </thead>\n",
       "  <tbody>\n",
       "    <tr>\n",
       "      <th>2</th>\n",
       "      <td>5500</td>\n",
       "      <td>2013.0</td>\n",
       "      <td>hyundai sonata</td>\n",
       "      <td>like new</td>\n",
       "      <td>4.0</td>\n",
       "      <td>gas</td>\n",
       "      <td>1100000.0</td>\n",
       "      <td>automatic</td>\n",
       "      <td>sedan</td>\n",
       "      <td>red</td>\n",
       "      <td>2019-02-07</td>\n",
       "      <td>79</td>\n",
       "    </tr>\n",
       "    <tr>\n",
       "      <th>4</th>\n",
       "      <td>14900</td>\n",
       "      <td>2017.0</td>\n",
       "      <td>chrysler 200</td>\n",
       "      <td>excellent</td>\n",
       "      <td>4.0</td>\n",
       "      <td>gas</td>\n",
       "      <td>809030.0</td>\n",
       "      <td>automatic</td>\n",
       "      <td>sedan</td>\n",
       "      <td>black</td>\n",
       "      <td>2019-04-02</td>\n",
       "      <td>28</td>\n",
       "    </tr>\n",
       "    <tr>\n",
       "      <th>5</th>\n",
       "      <td>14990</td>\n",
       "      <td>2014.0</td>\n",
       "      <td>chrysler 300</td>\n",
       "      <td>excellent</td>\n",
       "      <td>6.0</td>\n",
       "      <td>gas</td>\n",
       "      <td>579540.0</td>\n",
       "      <td>automatic</td>\n",
       "      <td>sedan</td>\n",
       "      <td>black</td>\n",
       "      <td>2018-06-20</td>\n",
       "      <td>15</td>\n",
       "    </tr>\n",
       "    <tr>\n",
       "      <th>6</th>\n",
       "      <td>12990</td>\n",
       "      <td>2015.0</td>\n",
       "      <td>toyota camry</td>\n",
       "      <td>excellent</td>\n",
       "      <td>4.0</td>\n",
       "      <td>gas</td>\n",
       "      <td>792120.0</td>\n",
       "      <td>automatic</td>\n",
       "      <td>sedan</td>\n",
       "      <td>white</td>\n",
       "      <td>2018-12-27</td>\n",
       "      <td>73</td>\n",
       "    </tr>\n",
       "    <tr>\n",
       "      <th>7</th>\n",
       "      <td>15990</td>\n",
       "      <td>2013.0</td>\n",
       "      <td>honda pilot</td>\n",
       "      <td>excellent</td>\n",
       "      <td>6.0</td>\n",
       "      <td>gas</td>\n",
       "      <td>1094730.0</td>\n",
       "      <td>automatic</td>\n",
       "      <td>SUV</td>\n",
       "      <td>black</td>\n",
       "      <td>2019-01-07</td>\n",
       "      <td>68</td>\n",
       "    </tr>\n",
       "  </tbody>\n",
       "</table>\n",
       "</div>"
      ],
      "text/plain": [
       "   price  model_year           model  condition  cylinders fuel   odometer  \\\n",
       "2   5500      2013.0  hyundai sonata   like new        4.0  gas  1100000.0   \n",
       "4  14900      2017.0    chrysler 200  excellent        4.0  gas   809030.0   \n",
       "5  14990      2014.0    chrysler 300  excellent        6.0  gas   579540.0   \n",
       "6  12990      2015.0    toyota camry  excellent        4.0  gas   792120.0   \n",
       "7  15990      2013.0     honda pilot  excellent        6.0  gas  1094730.0   \n",
       "\n",
       "  transmission   type paint_color date_posted  days_listed  \n",
       "2    automatic  sedan         red  2019-02-07           79  \n",
       "4    automatic  sedan       black  2019-04-02           28  \n",
       "5    automatic  sedan       black  2018-06-20           15  \n",
       "6    automatic  sedan       white  2018-12-27           73  \n",
       "7    automatic    SUV       black  2019-01-07           68  "
      ]
     },
     "execution_count": 25,
     "metadata": {},
     "output_type": "execute_result"
    }
   ],
   "source": [
    "filled_car_details.head()"
   ]
  },
  {
   "cell_type": "code",
   "execution_count": 26,
   "id": "059ce434",
   "metadata": {},
   "outputs": [
    {
     "data": {
      "text/plain": [
       "price           0\n",
       "model_year      0\n",
       "model           0\n",
       "condition       0\n",
       "cylinders       0\n",
       "fuel            0\n",
       "odometer        0\n",
       "transmission    0\n",
       "type            0\n",
       "paint_color     0\n",
       "date_posted     0\n",
       "days_listed     0\n",
       "dtype: int64"
      ]
     },
     "execution_count": 26,
     "metadata": {},
     "output_type": "execute_result"
    }
   ],
   "source": [
    "filled_car_details.isnull().sum()"
   ]
  },
  {
   "cell_type": "code",
   "execution_count": 27,
   "id": "153e5872",
   "metadata": {},
   "outputs": [
    {
     "data": {
      "text/html": [
       "<div>\n",
       "<style scoped>\n",
       "    .dataframe tbody tr th:only-of-type {\n",
       "        vertical-align: middle;\n",
       "    }\n",
       "\n",
       "    .dataframe tbody tr th {\n",
       "        vertical-align: top;\n",
       "    }\n",
       "\n",
       "    .dataframe thead th {\n",
       "        text-align: right;\n",
       "    }\n",
       "</style>\n",
       "<table border=\"1\" class=\"dataframe\">\n",
       "  <thead>\n",
       "    <tr style=\"text-align: right;\">\n",
       "      <th></th>\n",
       "      <th>count</th>\n",
       "      <th>unique</th>\n",
       "      <th>top</th>\n",
       "      <th>freq</th>\n",
       "    </tr>\n",
       "    <tr>\n",
       "      <th>fuel</th>\n",
       "      <th></th>\n",
       "      <th></th>\n",
       "      <th></th>\n",
       "      <th></th>\n",
       "    </tr>\n",
       "  </thead>\n",
       "  <tbody>\n",
       "    <tr>\n",
       "      <th>diesel</th>\n",
       "      <td>232</td>\n",
       "      <td>21</td>\n",
       "      <td>ram 2500</td>\n",
       "      <td>51</td>\n",
       "    </tr>\n",
       "    <tr>\n",
       "      <th>gas</th>\n",
       "      <td>2770</td>\n",
       "      <td>99</td>\n",
       "      <td>ford f-150</td>\n",
       "      <td>174</td>\n",
       "    </tr>\n",
       "    <tr>\n",
       "      <th>hybrid</th>\n",
       "      <td>22</td>\n",
       "      <td>7</td>\n",
       "      <td>toyota prius</td>\n",
       "      <td>16</td>\n",
       "    </tr>\n",
       "    <tr>\n",
       "      <th>other</th>\n",
       "      <td>7</td>\n",
       "      <td>7</td>\n",
       "      <td>ford mustang</td>\n",
       "      <td>1</td>\n",
       "    </tr>\n",
       "  </tbody>\n",
       "</table>\n",
       "</div>"
      ],
      "text/plain": [
       "       count unique           top freq\n",
       "fuel                                  \n",
       "diesel   232     21      ram 2500   51\n",
       "gas     2770     99    ford f-150  174\n",
       "hybrid    22      7  toyota prius   16\n",
       "other      7      7  ford mustang    1"
      ]
     },
     "execution_count": 27,
     "metadata": {},
     "output_type": "execute_result"
    }
   ],
   "source": [
    "filled_car_details.groupby('fuel')['model'].describe()"
   ]
  },
  {
   "cell_type": "code",
   "execution_count": 28,
   "id": "1fdc9d27",
   "metadata": {},
   "outputs": [
    {
     "data": {
      "text/plain": [
       "<AxesSubplot: xlabel='condition', ylabel='count'>"
      ]
     },
     "execution_count": 28,
     "metadata": {},
     "output_type": "execute_result"
    },
    {
     "data": {
      "image/png": "[encoded data removed]",
      "text/plain": [
       "<Figure size 700x700 with 1 Axes>"
      ]
     },
     "metadata": {},
     "output_type": "display_data"
    }
   ],
   "source": [
    "fig,ax = plt.subplots(figsize = (7,7))\n",
    "sns.countplot(x = 'condition'  ,data = filled_car_details)"
   ]
  },
  {
   "cell_type": "code",
   "execution_count": 29,
   "id": "16ac8544",
   "metadata": {},
   "outputs": [
    {
     "data": {
      "text/plain": [
       "<AxesSubplot: xlabel='transmission', ylabel='count'>"
      ]
     },
     "execution_count": 29,
     "metadata": {},
     "output_type": "execute_result"
    },
    {
     "data": {
      "image/png": "[encoded data removed]",
      "text/plain": [
       "<Figure size 700x700 with 1 Axes>"
      ]
     },
     "metadata": {},
     "output_type": "display_data"
    }
   ],
   "source": [
    "fig,ax = plt.subplots(figsize = (7,7))\n",
    "sns.countplot(x = 'transmission'  ,data = filled_car_details)"
   ]
  },
  {
   "cell_type": "code",
   "execution_count": 30,
   "id": "a03c8047",
   "metadata": {},
   "outputs": [
    {
     "data": {
      "text/plain": [
       "<AxesSubplot: xlabel='model_year', ylabel='count'>"
      ]
     },
     "execution_count": 30,
     "metadata": {},
     "output_type": "execute_result"
    },
    {
     "data": {
      "image/png": "[encoded data removed]",
      "text/plain": [
       "<Figure size 2000x700 with 1 Axes>"
      ]
     },
     "metadata": {},
     "output_type": "display_data"
    }
   ],
   "source": [
    "fig,ax = plt.subplots(figsize = (20,7))\n",
    "sns.countplot(x = 'model_year'  ,data = filled_car_details)"
   ]
  },
  {
   "cell_type": "code",
   "execution_count": 31,
   "id": "29fabc67",
   "metadata": {},
   "outputs": [
    {
     "name": "stdout",
     "output_type": "stream",
     "text": [
      "<class 'pandas.core.frame.DataFrame'>\n",
      "RangeIndex: 5097 entries, 0 to 5096\n",
      "Data columns (total 13 columns):\n",
      " #   Column        Non-Null Count  Dtype  \n",
      "---  ------        --------------  -----  \n",
      " 0   price         5097 non-null   int64  \n",
      " 1   model_year    4740 non-null   float64\n",
      " 2   model         5097 non-null   object \n",
      " 3   condition     5097 non-null   object \n",
      " 4   cylinders     4603 non-null   float64\n",
      " 5   fuel          5097 non-null   object \n",
      " 6   odometer      4354 non-null   float64\n",
      " 7   transmission  5097 non-null   object \n",
      " 8   type          5097 non-null   object \n",
      " 9   paint_color   4194 non-null   object \n",
      " 10  is_4wd        2655 non-null   float64\n",
      " 11  date_posted   5097 non-null   object \n",
      " 12  days_listed   5097 non-null   int64  \n",
      "dtypes: float64(4), int64(2), object(7)\n",
      "memory usage: 517.8+ KB\n"
     ]
    }
   ],
   "source": [
    "car_details.info()"
   ]
  },
  {
   "cell_type": "code",
   "execution_count": 32,
   "id": "28b933c5",
   "metadata": {},
   "outputs": [],
   "source": [
    "# We will 'set name' column as index now since it wont help in predictions. \n",
    "car_data_df_copy = car_details.copy()\n",
    "car_data_df = car_data_df_copy.dropna()\n",
    "car_data_df = car_data_df.reset_index(drop = True)"
   ]
  },
  {
   "cell_type": "code",
   "execution_count": 33,
   "id": "94fe542c",
   "metadata": {},
   "outputs": [
    {
     "data": {
      "text/plain": [
       "price           0\n",
       "model_year      0\n",
       "model           0\n",
       "condition       0\n",
       "cylinders       0\n",
       "fuel            0\n",
       "odometer        0\n",
       "transmission    0\n",
       "type            0\n",
       "paint_color     0\n",
       "is_4wd          0\n",
       "date_posted     0\n",
       "days_listed     0\n",
       "dtype: int64"
      ]
     },
     "execution_count": 33,
     "metadata": {},
     "output_type": "execute_result"
    }
   ],
   "source": [
    "car_data_df.isna().sum()"
   ]
  },
  {
   "cell_type": "code",
   "execution_count": 34,
   "id": "a5fcc8e8",
   "metadata": {},
   "outputs": [],
   "source": [
    "car_data_df = car_data_df.set_index('model')"
   ]
  },
  {
   "cell_type": "code",
   "execution_count": 35,
   "id": "179b2b19",
   "metadata": {},
   "outputs": [
    {
     "name": "stdout",
     "output_type": "stream",
     "text": [
      "Categorical Columns : Index(['condition', 'fuel', 'transmission', 'type', 'paint_color',\n",
      "       'date_posted'],\n",
      "      dtype='object')\n"
     ]
    }
   ],
   "source": [
    "# Object cols of car_data_df \n",
    "\n",
    "o = (car_data_df.dtypes == 'object')\n",
    "object_cols = o[o].index \n",
    "\n",
    "print(f\"Categorical Columns : {object_cols}\")"
   ]
  },
  {
   "cell_type": "code",
   "execution_count": 36,
   "id": "e1620310",
   "metadata": {},
   "outputs": [
    {
     "name": "stdout",
     "output_type": "stream",
     "text": [
      "condition : ['excellent' 'like new' 'good' 'fair' 'salvage' 'new']\n",
      "fuel : ['gas' 'diesel' 'hybrid' 'other']\n",
      "transmission : ['automatic' 'other' 'manual']\n",
      "type : ['sedan' 'SUV' 'pickup' 'truck' 'hatchback' 'wagon' 'other' 'coupe'\n",
      " 'offroad' 'convertible']\n",
      "paint_color : ['black' 'red' 'white' 'grey' 'brown' 'silver' 'blue' 'orange' 'custom'\n",
      " 'green' 'yellow' 'purple']\n",
      "date_posted : ['2018-06-20' '2019-01-07' '2018-09-17' '2019-01-31' '2018-12-30'\n",
      " '2018-08-16' '2019-04-09' '2019-01-05' '2019-02-19' '2018-12-25'\n",
      " '2019-03-31' '2019-01-12' '2018-11-18' '2018-07-19' '2019-01-30'\n",
      " '2018-07-15' '2019-03-14' '2018-05-29' '2018-07-27' '2019-02-28'\n",
      " '2018-09-25' '2019-03-13' '2018-06-30' '2018-06-16' '2018-12-14'\n",
      " '2018-12-24' '2019-04-02' '2018-09-10' '2019-02-27' '2018-09-22'\n",
      " '2018-11-08' '2018-08-19' '2019-03-01' '2018-11-15' '2019-01-13'\n",
      " '2018-08-11' '2018-08-03' '2018-05-26' '2018-07-28' '2018-06-26'\n",
      " '2018-12-20' '2018-11-10' '2018-09-08' '2018-08-17' '2018-05-23'\n",
      " '2019-01-25' '2018-06-11' '2019-01-29' '2018-08-15' '2019-01-17'\n",
      " '2018-06-29' '2018-08-01' '2018-12-26' '2019-02-20' '2018-06-27'\n",
      " '2018-08-22' '2018-06-19' '2018-07-17' '2018-05-06' '2018-10-30'\n",
      " '2018-11-17' '2018-05-15' '2019-01-03' '2019-03-20' '2018-11-30'\n",
      " '2019-03-03' '2019-02-26' '2018-07-24' '2018-09-09' '2018-10-15'\n",
      " '2018-06-23' '2018-06-17' '2019-02-12' '2018-08-30' '2018-07-13'\n",
      " '2018-12-07' '2018-09-26' '2018-07-07' '2018-10-10' '2018-12-13'\n",
      " '2018-07-22' '2018-10-26' '2018-08-06' '2018-08-10' '2019-04-01'\n",
      " '2018-05-08' '2018-05-02' '2018-10-28' '2019-03-28' '2019-03-30'\n",
      " '2019-01-23' '2018-07-10' '2018-12-17' '2018-05-12' '2018-08-02'\n",
      " '2019-03-16' '2019-03-08' '2019-01-27' '2019-02-18' '2018-12-23'\n",
      " '2018-11-16' '2018-11-06' '2018-07-04' '2018-08-09' '2019-01-20'\n",
      " '2019-01-16' '2019-04-05' '2018-11-11' '2018-07-23' '2018-11-09'\n",
      " '2018-09-06' '2018-10-12' '2019-01-06' '2019-01-24' '2019-03-18'\n",
      " '2018-11-12' '2018-06-07' '2018-09-01' '2019-01-10' '2018-05-07'\n",
      " '2019-03-23' '2018-10-09' '2019-02-07' '2019-04-06' '2018-06-10'\n",
      " '2019-04-14' '2019-04-03' '2019-03-04' '2018-06-14' '2019-03-25'\n",
      " '2018-09-16' '2018-06-09' '2019-04-08' '2018-05-20' '2019-02-16'\n",
      " '2018-07-08' '2018-12-31' '2018-09-14' '2018-06-28' '2018-10-13'\n",
      " '2018-08-07' '2019-03-11' '2018-11-28' '2018-07-03' '2019-03-22'\n",
      " '2018-05-21' '2019-04-15' '2018-12-28' '2018-09-03' '2019-02-09'\n",
      " '2018-06-18' '2018-08-25' '2019-02-22' '2019-02-21' '2019-04-10'\n",
      " '2018-10-27' '2018-12-18' '2018-06-12' '2018-12-02' '2018-11-13'\n",
      " '2019-02-23' '2018-12-09' '2018-10-25' '2018-11-20' '2019-01-14'\n",
      " '2018-07-09' '2019-01-01' '2018-08-20' '2018-08-24' '2019-02-15'\n",
      " '2018-06-15' '2019-01-09' '2018-07-01' '2018-05-13' '2019-02-03'\n",
      " '2018-08-14' '2018-09-29' '2018-12-15' '2018-08-28' '2018-10-19'\n",
      " '2018-11-23' '2018-09-28' '2018-07-06' '2018-10-29' '2018-10-11'\n",
      " '2018-10-02' '2018-12-21' '2018-08-04' '2018-11-07' '2018-06-24'\n",
      " '2018-07-26' '2018-10-06' '2018-10-08' '2019-01-21' '2018-05-27'\n",
      " '2018-10-22' '2019-01-28' '2018-05-16' '2018-10-24' '2018-06-05'\n",
      " '2018-11-21' '2018-10-18' '2018-09-02' '2018-10-03' '2019-04-13'\n",
      " '2018-09-21' '2018-08-05' '2019-04-04' '2018-07-12' '2019-04-18'\n",
      " '2018-05-03' '2018-08-13' '2018-05-24' '2019-03-19' '2018-10-05'\n",
      " '2019-02-08' '2018-10-31' '2019-02-24' '2019-01-04' '2018-05-30'\n",
      " '2018-09-04' '2019-02-02' '2018-08-18' '2018-08-12' '2019-01-26'\n",
      " '2019-01-15' '2018-10-07' '2019-03-07' '2018-06-21' '2018-05-01'\n",
      " '2018-12-01' '2018-05-04' '2019-02-10' '2019-02-04' '2019-03-26'\n",
      " '2018-06-01' '2018-05-31' '2018-09-13' '2018-05-18' '2018-11-03'\n",
      " '2018-10-16' '2018-05-09' '2018-12-19' '2018-09-19' '2018-11-14'\n",
      " '2018-12-04' '2019-02-11' '2018-11-02' '2018-12-08' '2019-02-01'\n",
      " '2019-03-10' '2018-08-29' '2019-02-05' '2018-07-11' '2018-07-21'\n",
      " '2018-12-03' '2019-01-18' '2018-11-01' '2018-08-26' '2018-10-14'\n",
      " '2018-12-22' '2019-02-14' '2018-06-22' '2018-06-25' '2018-10-04'\n",
      " '2018-05-11' '2018-10-01' '2018-07-20' '2019-01-22' '2018-09-20'\n",
      " '2018-07-31' '2019-04-16' '2018-11-04' '2019-03-24' '2019-03-09'\n",
      " '2018-06-02' '2018-11-27' '2018-06-13' '2019-04-17' '2019-02-13'\n",
      " '2018-09-23' '2018-05-19' '2018-12-06' '2019-03-29' '2018-05-17'\n",
      " '2018-05-28' '2018-10-23' '2018-05-14' '2019-03-02' '2018-11-22'\n",
      " '2018-12-29' '2018-09-27' '2018-10-17' '2018-10-21' '2018-11-25'\n",
      " '2019-03-15' '2018-08-21' '2018-06-06' '2018-05-25' '2018-08-23'\n",
      " '2019-01-08' '2018-09-05' '2018-07-25' '2018-08-27' '2018-11-29'\n",
      " '2019-03-06' '2018-11-26' '2018-06-08' '2018-10-20' '2019-02-17'\n",
      " '2019-03-12' '2019-02-06' '2019-04-11' '2018-07-16' '2018-12-05'\n",
      " '2018-09-11' '2018-09-24' '2018-06-04' '2019-04-07' '2019-01-02'\n",
      " '2018-07-29' '2018-05-22' '2018-06-03' '2018-11-05' '2019-03-05'\n",
      " '2018-12-12' '2018-12-27' '2019-04-19' '2018-07-14' '2018-11-24'\n",
      " '2018-12-10' '2018-07-05' '2018-09-12' '2019-04-12' '2018-12-16'\n",
      " '2019-02-25' '2018-09-15' '2019-03-17' '2019-03-21' '2019-01-19'\n",
      " '2018-07-18' '2018-11-19' '2018-09-30' '2018-12-11' '2018-09-07'\n",
      " '2018-07-02' '2018-07-30' '2018-05-10' '2019-03-27']\n"
     ]
    }
   ],
   "source": [
    "# We will used previously written function in this notebook to get unique values out of object type of columns.\n",
    "\n",
    "unique_cols(car_data_df)"
   ]
  },
  {
   "cell_type": "code",
   "execution_count": 37,
   "id": "13083584",
   "metadata": {},
   "outputs": [
    {
     "data": {
      "text/html": [
       "<div>\n",
       "<style scoped>\n",
       "    .dataframe tbody tr th:only-of-type {\n",
       "        vertical-align: middle;\n",
       "    }\n",
       "\n",
       "    .dataframe tbody tr th {\n",
       "        vertical-align: top;\n",
       "    }\n",
       "\n",
       "    .dataframe thead th {\n",
       "        text-align: right;\n",
       "    }\n",
       "</style>\n",
       "<table border=\"1\" class=\"dataframe\">\n",
       "  <thead>\n",
       "    <tr style=\"text-align: right;\">\n",
       "      <th></th>\n",
       "      <th>price</th>\n",
       "      <th>model_year</th>\n",
       "      <th>condition</th>\n",
       "      <th>cylinders</th>\n",
       "      <th>fuel</th>\n",
       "      <th>odometer</th>\n",
       "      <th>transmission</th>\n",
       "      <th>type</th>\n",
       "      <th>paint_color</th>\n",
       "      <th>is_4wd</th>\n",
       "      <th>date_posted</th>\n",
       "      <th>days_listed</th>\n",
       "    </tr>\n",
       "    <tr>\n",
       "      <th>model</th>\n",
       "      <th></th>\n",
       "      <th></th>\n",
       "      <th></th>\n",
       "      <th></th>\n",
       "      <th></th>\n",
       "      <th></th>\n",
       "      <th></th>\n",
       "      <th></th>\n",
       "      <th></th>\n",
       "      <th></th>\n",
       "      <th></th>\n",
       "      <th></th>\n",
       "    </tr>\n",
       "  </thead>\n",
       "  <tbody>\n",
       "    <tr>\n",
       "      <th>chrysler 300</th>\n",
       "      <td>14990</td>\n",
       "      <td>2014.0</td>\n",
       "      <td>0.0</td>\n",
       "      <td>6.0</td>\n",
       "      <td>1.0</td>\n",
       "      <td>57954.0</td>\n",
       "      <td>0.0</td>\n",
       "      <td>7.0</td>\n",
       "      <td>0.0</td>\n",
       "      <td>1.0</td>\n",
       "      <td>49.0</td>\n",
       "      <td>15</td>\n",
       "    </tr>\n",
       "    <tr>\n",
       "      <th>honda pilot</th>\n",
       "      <td>15990</td>\n",
       "      <td>2013.0</td>\n",
       "      <td>0.0</td>\n",
       "      <td>6.0</td>\n",
       "      <td>1.0</td>\n",
       "      <td>109473.0</td>\n",
       "      <td>0.0</td>\n",
       "      <td>0.0</td>\n",
       "      <td>0.0</td>\n",
       "      <td>1.0</td>\n",
       "      <td>247.0</td>\n",
       "      <td>68</td>\n",
       "    </tr>\n",
       "    <tr>\n",
       "      <th>chevrolet silverado 1500</th>\n",
       "      <td>19500</td>\n",
       "      <td>2011.0</td>\n",
       "      <td>0.0</td>\n",
       "      <td>8.0</td>\n",
       "      <td>1.0</td>\n",
       "      <td>128413.0</td>\n",
       "      <td>0.0</td>\n",
       "      <td>6.0</td>\n",
       "      <td>0.0</td>\n",
       "      <td>1.0</td>\n",
       "      <td>136.0</td>\n",
       "      <td>38</td>\n",
       "    </tr>\n",
       "    <tr>\n",
       "      <th>gmc yukon</th>\n",
       "      <td>12990</td>\n",
       "      <td>2009.0</td>\n",
       "      <td>0.0</td>\n",
       "      <td>8.0</td>\n",
       "      <td>1.0</td>\n",
       "      <td>132285.0</td>\n",
       "      <td>0.0</td>\n",
       "      <td>0.0</td>\n",
       "      <td>0.0</td>\n",
       "      <td>1.0</td>\n",
       "      <td>270.0</td>\n",
       "      <td>24</td>\n",
       "    </tr>\n",
       "    <tr>\n",
       "      <th>ram 1500</th>\n",
       "      <td>14990</td>\n",
       "      <td>2010.0</td>\n",
       "      <td>0.0</td>\n",
       "      <td>8.0</td>\n",
       "      <td>1.0</td>\n",
       "      <td>130725.0</td>\n",
       "      <td>0.0</td>\n",
       "      <td>6.0</td>\n",
       "      <td>8.0</td>\n",
       "      <td>1.0</td>\n",
       "      <td>239.0</td>\n",
       "      <td>13</td>\n",
       "    </tr>\n",
       "  </tbody>\n",
       "</table>\n",
       "</div>"
      ],
      "text/plain": [
       "                          price  model_year  condition  cylinders  fuel  \\\n",
       "model                                                                     \n",
       "chrysler 300              14990      2014.0        0.0        6.0   1.0   \n",
       "honda pilot               15990      2013.0        0.0        6.0   1.0   \n",
       "chevrolet silverado 1500  19500      2011.0        0.0        8.0   1.0   \n",
       "gmc yukon                 12990      2009.0        0.0        8.0   1.0   \n",
       "ram 1500                  14990      2010.0        0.0        8.0   1.0   \n",
       "\n",
       "                          odometer  transmission  type  paint_color  is_4wd  \\\n",
       "model                                                                         \n",
       "chrysler 300               57954.0           0.0   7.0          0.0     1.0   \n",
       "honda pilot               109473.0           0.0   0.0          0.0     1.0   \n",
       "chevrolet silverado 1500  128413.0           0.0   6.0          0.0     1.0   \n",
       "gmc yukon                 132285.0           0.0   0.0          0.0     1.0   \n",
       "ram 1500                  130725.0           0.0   6.0          8.0     1.0   \n",
       "\n",
       "                          date_posted  days_listed  \n",
       "model                                               \n",
       "chrysler 300                     49.0           15  \n",
       "honda pilot                     247.0           68  \n",
       "chevrolet silverado 1500        136.0           38  \n",
       "gmc yukon                       270.0           24  \n",
       "ram 1500                        239.0           13  "
      ]
     },
     "execution_count": 37,
     "metadata": {},
     "output_type": "execute_result"
    }
   ],
   "source": [
    "# We will use Ordinal Encoder \n",
    "\n",
    "from sklearn.preprocessing import OrdinalEncoder \n",
    "\n",
    "enc = OrdinalEncoder()\n",
    "car_data_df[object_cols] = enc.fit_transform(car_data_df[object_cols])\n",
    "\n",
    "car_data_df.head()"
   ]
  },
  {
   "cell_type": "code",
   "execution_count": 38,
   "id": "84fc2c0e",
   "metadata": {},
   "outputs": [
    {
     "data": {
      "text/plain": [
       "price             int64\n",
       "model_year      float64\n",
       "condition       float64\n",
       "cylinders       float64\n",
       "fuel            float64\n",
       "odometer        float64\n",
       "transmission    float64\n",
       "type            float64\n",
       "paint_color     float64\n",
       "is_4wd          float64\n",
       "date_posted     float64\n",
       "days_listed       int64\n",
       "dtype: object"
      ]
     },
     "execution_count": 38,
     "metadata": {},
     "output_type": "execute_result"
    }
   ],
   "source": [
    "car_data_df.dtypes"
   ]
  },
  {
   "cell_type": "code",
   "execution_count": 39,
   "id": "2f9c89ea",
   "metadata": {},
   "outputs": [
    {
     "data": {
      "text/plain": [
       "price           1.000000\n",
       "model_year      0.675595\n",
       "condition      -0.074385\n",
       "cylinders       0.201943\n",
       "fuel           -0.255615\n",
       "odometer       -0.558519\n",
       "transmission    0.007197\n",
       "type            0.207649\n",
       "paint_color    -0.027675\n",
       "is_4wd               NaN\n",
       "date_posted    -0.041572\n",
       "days_listed    -0.024128\n",
       "dtype: float64"
      ]
     },
     "execution_count": 39,
     "metadata": {},
     "output_type": "execute_result"
    }
   ],
   "source": [
    "# Lets check correlation matrix. \n",
    "present_price_corr  = car_data_df.corrwith(car_data_df.price)\n",
    "present_price_corr"
   ]
  },
  {
   "cell_type": "code",
   "execution_count": 40,
   "id": "226a1ae1",
   "metadata": {},
   "outputs": [
    {
     "data": {
      "text/plain": [
       "<AxesSubplot: >"
      ]
     },
     "execution_count": 40,
     "metadata": {},
     "output_type": "execute_result"
    },
    {
     "data": {
      "image/png": "[encoded data removed]",
      "text/plain": [
       "<Figure size 1000x600 with 2 Axes>"
      ]
     },
     "metadata": {},
     "output_type": "display_data"
    }
   ],
   "source": [
    "# Plot correlation matrix with all columms.\n",
    "correlation  = car_data_df.corr()\n",
    "\n",
    "mask = np.triu(np.ones_like(correlation , dtype = bool))\n",
    "\n",
    "plt.figure(figsize = (10,6))\n",
    "sns.heatmap(correlation , mask = mask , annot = True , linewidth = 1)"
   ]
  },
  {
   "cell_type": "code",
   "execution_count": 41,
   "id": "019e9cba",
   "metadata": {},
   "outputs": [],
   "source": [
    "features = car_data_df.drop('price' ,axis = 1)\n",
    "label = car_data_df['price']"
   ]
  },
  {
   "cell_type": "code",
   "execution_count": 42,
   "id": "84dfd056",
   "metadata": {},
   "outputs": [
    {
     "name": "stdout",
     "output_type": "stream",
     "text": [
      "Score with linear regression : 0.6755086942711386\n"
     ]
    }
   ],
   "source": [
    "# Lets create a linear regression model \n",
    "\n",
    "from sklearn.linear_model import LinearRegression \n",
    "\n",
    "lr_model = LinearRegression()\n",
    "\n",
    "lr_model.fit(features , label) \n",
    "\n",
    "score = lr_model.score(features ,label)\n",
    "\n",
    "print(f\"Score with linear regression : {score}\")"
   ]
  },
  {
   "cell_type": "code",
   "execution_count": null,
   "id": "2d40f1aa",
   "metadata": {},
   "outputs": [],
   "source": []
  },
  {
   "cell_type": "code",
   "execution_count": null,
   "id": "a4117fd7",
   "metadata": {},
   "outputs": [],
   "source": []
  }
 ],
 "metadata": {
  "kernelspec": {
   "display_name": "Python 3 (ipykernel)",
   "language": "python",
   "name": "python3"
  },
  "language_info": {
   "codemirror_mode": {
    "name": "ipython",
    "version": 3
   },
   "file_extension": ".py",
   "mimetype": "text/x-python",
   "name": "python",
   "nbconvert_exporter": "python",
   "pygments_lexer": "ipython3",
   "version": "3.11.0"
  }
 },
 "nbformat": 4,
 "nbformat_minor": 5
}
